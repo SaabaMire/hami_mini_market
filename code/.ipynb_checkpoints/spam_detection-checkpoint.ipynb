{
 "cells": [
  {
   "cell_type": "code",
   "execution_count": 188,
   "id": "65974960-3d73-403e-a926-536fcb6725fd",
   "metadata": {},
   "outputs": [],
   "source": [
    "#  HamiSkills Week 1 - Spam Email Classifier\n",
    "# Author: Sabirin Mire Abukar\n",
    "# Project: Spam/Ham Detection for Hami MiniMarket\n",
    "\n",
    "#  1. Import Libraries \n",
    "import pandas as pd\n",
    "import numpy as np\n",
    "import re\n",
    "import joblib\n",
    "from sklearn.model_selection import train_test_split\n",
    "from sklearn.feature_extraction.text import TfidfVectorizer\n",
    "from sklearn.linear_model import LogisticRegression\n",
    "from sklearn.metrics import accuracy_score, precision_score, recall_score, f1_score, confusion_matrix\n"
   ]
  },
  {
   "cell_type": "code",
   "execution_count": 189,
   "id": "183ce1e5-fdcd-4231-af2a-024c3227bf45",
   "metadata": {},
   "outputs": [
    {
     "name": "stdout",
     "output_type": "stream",
     "text": [
      "Dataset loaded successfully!\n",
      "  Category                                            Message\n",
      "0      ham  Go until jurong point, crazy.. Available only ...\n",
      "1      ham                      Ok lar... Joking wif u oni...\n",
      "2     spam  Free entry in 2 a wkly comp to win FA Cup fina...\n",
      "3      ham  U dun say so early hor... U c already then say...\n",
      "4      ham  Nah I don't think he goes to usf, he lives aro...\n"
     ]
    }
   ],
   "source": [
    "#  2. Load Dataset\n",
    "df = pd.read_csv('../dataset/spam.csv')   \n",
    "print(\"Dataset loaded successfully!\")\n",
    "print(df.head())"
   ]
  },
  {
   "cell_type": "code",
   "execution_count": 190,
   "id": "ea456cbd-d467-45d9-a6e1-7bf866572a7a",
   "metadata": {},
   "outputs": [],
   "source": [
    "#  3. Data Cleaning \n",
    "df[\"Category\"] = df[\"Category\"].fillna(\"\").astype(str).str.lower().str.strip()\n",
    "df[\"Message\"] = df[\"Message\"].astype(str).apply(lambda x: re.sub(r'[^a-zA-Z\\s]', '', x.lower()))\n",
    "\n",
    "# Encode labels: spam → 0, ham → 1\n",
    "df[\"Category\"] = df[\"Category\"].map({\"spam\": 0, \"ham\": 1})\n"
   ]
  },
  {
   "cell_type": "code",
   "execution_count": 191,
   "id": "1167dcc1-dce2-425b-af44-8ad196c3ead3",
   "metadata": {},
   "outputs": [],
   "source": [
    "#  4. Split Data \n",
    "X = df[\"Message\"]\n",
    "y = df[\"Category\"]\n",
    "X_train, X_test, y_train, y_test = train_test_split(X, y, test_size=0.2, random_state=42)"
   ]
  },
  {
   "cell_type": "code",
   "execution_count": 192,
   "id": "1605b2b6-7280-4c9f-89dd-35c4bb3b758f",
   "metadata": {},
   "outputs": [],
   "source": [
    "\n",
    "#  5. Text Vectorization (TF-IDF) \n",
    "tfidf = TfidfVectorizer(stop_words=\"english\", lowercase=True, min_df=1)\n",
    "X_train_features = tfidf.fit_transform(X_train)\n",
    "X_test_features = tfidf.transform(X_test)"
   ]
  },
  {
   "cell_type": "code",
   "execution_count": 193,
   "id": "0a5ee6ee-f34d-408a-bfe7-d0ca39f955f3",
   "metadata": {},
   "outputs": [
    {
     "ename": "SyntaxError",
     "evalue": "invalid syntax. Maybe you meant '==' or ':=' instead of '='? (94899701.py, line 4)",
     "output_type": "error",
     "traceback": [
      "\u001b[1;36m  Cell \u001b[1;32mIn[193], line 4\u001b[1;36m\u001b[0m\n\u001b[1;33m    lr = LogisticRegression( (max_iter==1000, random_state=42)\u001b[0m\n\u001b[1;37m                                              ^\u001b[0m\n\u001b[1;31mSyntaxError\u001b[0m\u001b[1;31m:\u001b[0m invalid syntax. Maybe you meant '==' or ':=' instead of '='?\n"
     ]
    }
   ],
   "source": [
    "\n",
    "\n",
    "# === 6. Train Models ===\n",
    "# Logistic Regression\n",
    "lr = LogisticRegression(max_iter=1000, random_state=42)\n",
    "lr.fit(X_train_features, y_train)"
   ]
  },
  {
   "cell_type": "code",
   "execution_count": null,
   "id": "b54e95d6-c417-4023-bf03-baeeaab3b2b5",
   "metadata": {},
   "outputs": [],
   "source": [
    "#  7. Model Evaluation Functions \n",
    "def print_metrics(name, y_true, y_pred):\n",
    "    acc = accuracy_score(y_true, y_pred)\n",
    "    prec = precision_score(y_true, y_pred, pos_label=0)\n",
    "    rec = recall_score(y_true, y_pred, pos_label=0)\n",
    "    f1 = f1_score(y_true, y_pred, pos_label=0)\n",
    "    print(f\"\\n{name}\")\n",
    "    print(f\"Accuracy : {acc:.2f}\")\n",
    "    print(f\"Precision: {prec:.2f}\")\n",
    "    print(f\"Recall   : {rec:.2f}\")\n",
    "    print(f\"F1-score : {f1:.2f}\")\n",
    "\n",
    "def print_confmat(name, y_true, y_pred):\n",
    "    cm = confusion_matrix(y_true, y_pred, labels=[1, 0])\n",
    "    cm_df = pd.DataFrame(\n",
    "        cm,\n",
    "        index=[\"Actual: Ham (1)\", \"Actual: Spam (0)\"],\n",
    "        columns=[\"Pred: Ham (1)\", \"Pred: Spam (0)\"]\n",
    "    )\n",
    "    print(f\"\\n{name} Confusion Matrix:\\n{cm_df}\")\n"
   ]
  },
  {
   "cell_type": "code",
   "execution_count": null,
   "id": "d6a61063",
   "metadata": {},
   "outputs": [],
   "source": [
    "\n",
    "#  8. Evaluate Model\n",
    "lr_pred = lr.predict(X_test_features)\n",
    "\n",
    "print_metrics(\"Logistic Regression\", y_test, lr_pred)\n",
    "print_confmat(\"Logistic Regression\", y_test, lr_pred)\n"
   ]
  },
  {
   "cell_type": "code",
   "execution_count": null,
   "id": "2cd6e672-3486-4c55-aad6-2e8cd0d22984",
   "metadata": {},
   "outputs": [],
   "source": [
    "#  9. Save Best Model and Vectorizer \n",
    "joblib.dump(lr, \"../models/spam_classifier.pkl\")\n",
    "joblib.dump(tfidf, \"../models/tfidf_vectorizer.pkl\")\n",
    "print(\"\\n Model and vectorizer saved successfully!\")"
   ]
  },
  {
   "cell_type": "code",
   "execution_count": null,
   "id": "9e38851f",
   "metadata": {
    "scrolled": true
   },
   "outputs": [],
   "source": [
    "# 10. CLI Tool for User Input \n",
    "print(\"\\n Spam Detection CLI - Type 'exit' to quit\\n\")\n",
    "\n",
    "loaded_model = joblib.load(\"../models/spam_classifier.pkl\")\n",
    "loaded_vectorizer = joblib.load(\"../models/tfidf_vectorizer.pkl\")\n",
    "\n",
    "while True:\n",
    "    user_input = input(\"Enter a message: \")\n",
    "    if user_input.lower() == \"exit\":\n",
    "        print(\"Goodbye\")\n",
    "        break\n",
    "    processed = re.sub(r'[^a-zA-Z\\s]', '', user_input.lower())\n",
    "    features = loaded_vectorizer.transform([processed])\n",
    "    prediction = loaded_model.predict(features)[0]\n",
    "    label = \"SPAM\" if prediction == 0 else \"NOT SPAM\"\n",
    "    print(f\"Prediction: {label}\\n\")\n"
   ]
  }
 ],
 "metadata": {
  "kernelspec": {
   "display_name": "Python 3 (ipykernel)",
   "language": "python",
   "name": "python3"
  },
  "language_info": {
   "codemirror_mode": {
    "name": "ipython",
    "version": 3
   },
   "file_extension": ".py",
   "mimetype": "text/x-python",
   "name": "python",
   "nbconvert_exporter": "python",
   "pygments_lexer": "ipython3",
   "version": "3.12.4"
  }
 },
 "nbformat": 4,
 "nbformat_minor": 5
}
